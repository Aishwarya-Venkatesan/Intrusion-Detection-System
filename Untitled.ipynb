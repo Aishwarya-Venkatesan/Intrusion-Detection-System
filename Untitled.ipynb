{
 "cells": [
  {
   "cell_type": "code",
   "execution_count": 1,
   "id": "a8547d3d",
   "metadata": {},
   "outputs": [],
   "source": [
    "import numpy as np\n",
    "import pandas as pd\n",
    "import matplotlib.pyplot as plt\n",
    "import seaborn as sns\n",
    "from sklearn.model_selection import train_test_split\n",
    "#from imblearn.over_sampling import RandomOverSampler\n",
    "from sklearn.preprocessing import StandardScaler\n",
    "from sklearn.decomposition import PCA\n",
    "from sklearn import preprocessing"
   ]
  },
  {
   "cell_type": "code",
   "execution_count": 2,
   "id": "2d830b4c",
   "metadata": {},
   "outputs": [
    {
     "data": {
      "text/html": [
       "<div>\n",
       "<style scoped>\n",
       "    .dataframe tbody tr th:only-of-type {\n",
       "        vertical-align: middle;\n",
       "    }\n",
       "\n",
       "    .dataframe tbody tr th {\n",
       "        vertical-align: top;\n",
       "    }\n",
       "\n",
       "    .dataframe thead th {\n",
       "        text-align: right;\n",
       "    }\n",
       "</style>\n",
       "<table border=\"1\" class=\"dataframe\">\n",
       "  <thead>\n",
       "    <tr style=\"text-align: right;\">\n",
       "      <th></th>\n",
       "      <th>DLC</th>\n",
       "      <th>DATA0</th>\n",
       "      <th>DATA1</th>\n",
       "      <th>DATA2</th>\n",
       "      <th>DATA3</th>\n",
       "      <th>DATA4</th>\n",
       "      <th>DATA5</th>\n",
       "      <th>DATA6</th>\n",
       "      <th>DATA7</th>\n",
       "      <th>ATTACK_TYPE</th>\n",
       "    </tr>\n",
       "  </thead>\n",
       "  <tbody>\n",
       "    <tr>\n",
       "      <th>0</th>\n",
       "      <td>8</td>\n",
       "      <td>fe</td>\n",
       "      <td>5b</td>\n",
       "      <td>0</td>\n",
       "      <td>0</td>\n",
       "      <td>0</td>\n",
       "      <td>3c</td>\n",
       "      <td>0</td>\n",
       "      <td>0</td>\n",
       "      <td>Normal</td>\n",
       "    </tr>\n",
       "    <tr>\n",
       "      <th>1</th>\n",
       "      <td>8</td>\n",
       "      <td>19</td>\n",
       "      <td>21</td>\n",
       "      <td>22</td>\n",
       "      <td>30</td>\n",
       "      <td>8</td>\n",
       "      <td>8e</td>\n",
       "      <td>6d</td>\n",
       "      <td>3a</td>\n",
       "      <td>Normal</td>\n",
       "    </tr>\n",
       "    <tr>\n",
       "      <th>2</th>\n",
       "      <td>8</td>\n",
       "      <td>64</td>\n",
       "      <td>0</td>\n",
       "      <td>9a</td>\n",
       "      <td>1d</td>\n",
       "      <td>97</td>\n",
       "      <td>2</td>\n",
       "      <td>bd</td>\n",
       "      <td>0</td>\n",
       "      <td>Normal</td>\n",
       "    </tr>\n",
       "    <tr>\n",
       "      <th>3</th>\n",
       "      <td>8</td>\n",
       "      <td>40</td>\n",
       "      <td>bb</td>\n",
       "      <td>7f</td>\n",
       "      <td>14</td>\n",
       "      <td>11</td>\n",
       "      <td>20</td>\n",
       "      <td>0</td>\n",
       "      <td>14</td>\n",
       "      <td>Normal</td>\n",
       "    </tr>\n",
       "    <tr>\n",
       "      <th>4</th>\n",
       "      <td>8</td>\n",
       "      <td>d8</td>\n",
       "      <td>0</td>\n",
       "      <td>0</td>\n",
       "      <td>8a</td>\n",
       "      <td>0</td>\n",
       "      <td>0</td>\n",
       "      <td>0</td>\n",
       "      <td>0</td>\n",
       "      <td>Normal</td>\n",
       "    </tr>\n",
       "    <tr>\n",
       "      <th>5</th>\n",
       "      <td>8</td>\n",
       "      <td>0</td>\n",
       "      <td>0</td>\n",
       "      <td>0</td>\n",
       "      <td>0</td>\n",
       "      <td>0</td>\n",
       "      <td>3</td>\n",
       "      <td>0b</td>\n",
       "      <td>11</td>\n",
       "      <td>Normal</td>\n",
       "    </tr>\n",
       "    <tr>\n",
       "      <th>6</th>\n",
       "      <td>8</td>\n",
       "      <td>0</td>\n",
       "      <td>21</td>\n",
       "      <td>10</td>\n",
       "      <td>ff</td>\n",
       "      <td>0</td>\n",
       "      <td>ff</td>\n",
       "      <td>0</td>\n",
       "      <td>0</td>\n",
       "      <td>Normal</td>\n",
       "    </tr>\n",
       "    <tr>\n",
       "      <th>7</th>\n",
       "      <td>8</td>\n",
       "      <td>14</td>\n",
       "      <td>0</td>\n",
       "      <td>0</td>\n",
       "      <td>0</td>\n",
       "      <td>0</td>\n",
       "      <td>0</td>\n",
       "      <td>0</td>\n",
       "      <td>0</td>\n",
       "      <td>Normal</td>\n",
       "    </tr>\n",
       "    <tr>\n",
       "      <th>8</th>\n",
       "      <td>8</td>\n",
       "      <td>8</td>\n",
       "      <td>80</td>\n",
       "      <td>0</td>\n",
       "      <td>ff</td>\n",
       "      <td>31</td>\n",
       "      <td>80</td>\n",
       "      <td>0b</td>\n",
       "      <td>7f</td>\n",
       "      <td>Normal</td>\n",
       "    </tr>\n",
       "    <tr>\n",
       "      <th>9</th>\n",
       "      <td>8</td>\n",
       "      <td>e5</td>\n",
       "      <td>7f</td>\n",
       "      <td>0</td>\n",
       "      <td>0</td>\n",
       "      <td>48</td>\n",
       "      <td>7f</td>\n",
       "      <td>0b</td>\n",
       "      <td>ac</td>\n",
       "      <td>Normal</td>\n",
       "    </tr>\n",
       "  </tbody>\n",
       "</table>\n",
       "</div>"
      ],
      "text/plain": [
       "   DLC DATA0 DATA1 DATA2 DATA3 DATA4 DATA5 DATA6 DATA7 ATTACK_TYPE\n",
       "0    8    fe    5b     0     0     0    3c     0     0      Normal\n",
       "1    8    19    21    22    30     8    8e    6d    3a      Normal\n",
       "2    8    64     0    9a    1d    97     2    bd     0      Normal\n",
       "3    8    40    bb    7f    14    11    20     0    14      Normal\n",
       "4    8    d8     0     0    8a     0     0     0     0      Normal\n",
       "5    8     0     0     0     0     0     3    0b    11      Normal\n",
       "6    8     0    21    10    ff     0    ff     0     0      Normal\n",
       "7    8    14     0     0     0     0     0     0     0      Normal\n",
       "8    8     8    80     0    ff    31    80    0b    7f      Normal\n",
       "9    8    e5    7f     0     0    48    7f    0b    ac      Normal"
      ]
     },
     "execution_count": 2,
     "metadata": {},
     "output_type": "execute_result"
    }
   ],
   "source": [
    "df=pd.read_csv(\"C:/Users/DELL/Desktop/Win Sem 22-23/IDSDATASET2.csv\")\n",
    "df.head(10)"
   ]
  },
  {
   "cell_type": "code",
   "execution_count": 3,
   "id": "3ff319db",
   "metadata": {},
   "outputs": [
    {
     "name": "stdout",
     "output_type": "stream",
     "text": [
      "<class 'pandas.core.frame.DataFrame'>\n",
      "RangeIndex: 42374 entries, 0 to 42373\n",
      "Data columns (total 10 columns):\n",
      " #   Column       Non-Null Count  Dtype \n",
      "---  ------       --------------  ----- \n",
      " 0   DLC          42374 non-null  int64 \n",
      " 1   DATA0        42374 non-null  object\n",
      " 2   DATA1        42374 non-null  object\n",
      " 3   DATA2        42374 non-null  object\n",
      " 4   DATA3        42350 non-null  object\n",
      " 5   DATA4        42350 non-null  object\n",
      " 6   DATA5        42350 non-null  object\n",
      " 7   DATA6        42350 non-null  object\n",
      " 8   DATA7        42350 non-null  object\n",
      " 9   ATTACK_TYPE  42374 non-null  object\n",
      "dtypes: int64(1), object(9)\n",
      "memory usage: 3.2+ MB\n"
     ]
    }
   ],
   "source": [
    "df.info()"
   ]
  },
  {
   "cell_type": "code",
   "execution_count": 4,
   "id": "49bd22bf",
   "metadata": {},
   "outputs": [
    {
     "data": {
      "text/plain": [
       "DLC             0\n",
       "DATA0           0\n",
       "DATA1           0\n",
       "DATA2           0\n",
       "DATA3          24\n",
       "DATA4          24\n",
       "DATA5          24\n",
       "DATA6          24\n",
       "DATA7          24\n",
       "ATTACK_TYPE     0\n",
       "dtype: int64"
      ]
     },
     "execution_count": 4,
     "metadata": {},
     "output_type": "execute_result"
    }
   ],
   "source": [
    "df.isna().sum()"
   ]
  },
  {
   "cell_type": "code",
   "execution_count": 5,
   "id": "77f89877",
   "metadata": {},
   "outputs": [
    {
     "data": {
      "text/plain": [
       "DLC            0\n",
       "DATA0          0\n",
       "DATA1          0\n",
       "DATA2          0\n",
       "DATA3          0\n",
       "DATA4          0\n",
       "DATA5          0\n",
       "DATA6          0\n",
       "DATA7          0\n",
       "ATTACK_TYPE    0\n",
       "dtype: int64"
      ]
     },
     "execution_count": 5,
     "metadata": {},
     "output_type": "execute_result"
    }
   ],
   "source": [
    "df=df.dropna(subset=['DATA3','DATA4','DATA5','DATA6','DATA7'])\n",
    "df.isna().sum()"
   ]
  },
  {
   "cell_type": "code",
   "execution_count": 6,
   "id": "c2d25e86",
   "metadata": {},
   "outputs": [
    {
     "data": {
      "text/plain": [
       "Normal                     36887\n",
       "DoS                         2990\n",
       "Spoofing the drive gear     2473\n",
       "Name: ATTACK_TYPE, dtype: int64"
      ]
     },
     "execution_count": 6,
     "metadata": {},
     "output_type": "execute_result"
    }
   ],
   "source": [
    "df['ATTACK_TYPE'].value_counts()"
   ]
  },
  {
   "cell_type": "code",
   "execution_count": 7,
   "id": "755dcd88",
   "metadata": {},
   "outputs": [
    {
     "data": {
      "text/plain": [
       "Text(0, 0.5, '')"
      ]
     },
     "execution_count": 7,
     "metadata": {},
     "output_type": "execute_result"
    },
    {
     "data": {
      "image/png": "[encoded data removed]",
      "text/plain": [
       "<Figure size 576x432 with 1 Axes>"
      ]
     },
     "metadata": {},
     "output_type": "display_data"
    }
   ],
   "source": [
    "plt.figure(figsize=(8,6))\n",
    "df[\"ATTACK_TYPE\"].value_counts().plot.pie(textprops={'fontweight':'bold','fontsize': 12})\n",
    "plt.ylabel('')"
   ]
  },
  {
   "cell_type": "code",
   "execution_count": 8,
   "id": "e18d3b0b",
   "metadata": {},
   "outputs": [
    {
     "name": "stdout",
     "output_type": "stream",
     "text": [
      "Normal: (36887, 10)\n",
      "DoS: (2990, 10)\n",
      "Spoofing: (2473, 10)\n"
     ]
    }
   ],
   "source": [
    "Normal_class, DoS_class,Spoofing_class = df['ATTACK_TYPE'].value_counts()\n",
    "\n",
    "# Separate class\n",
    "Normal = df[df['ATTACK_TYPE'] == 'Normal']\n",
    "DoS = df[df['ATTACK_TYPE'] == 'DoS']\n",
    "Spoofing = df[df['ATTACK_TYPE'] == 'Spoofing the drive gear']\n",
    "# print the shape of the class\n",
    "print('Normal:', Normal.shape)\n",
    "print('DoS:', DoS.shape)\n",
    "print('Spoofing:', Spoofing.shape)"
   ]
  },
  {
   "cell_type": "code",
   "execution_count": 9,
   "id": "7d034f61",
   "metadata": {},
   "outputs": [],
   "source": [
    "#oversampling\n",
    "DoS_over = DoS.sample(Normal_class, replace=True)\n",
    "Spoofing_over = Spoofing.sample(Normal_class, replace=True)\n",
    "\n",
    "df_under = pd.concat([Normal, DoS_over,Spoofing_over], axis=0)"
   ]
  },
  {
   "cell_type": "code",
   "execution_count": 10,
   "id": "75e9a45d",
   "metadata": {},
   "outputs": [
    {
     "data": {
      "text/html": [
       "<div>\n",
       "<style scoped>\n",
       "    .dataframe tbody tr th:only-of-type {\n",
       "        vertical-align: middle;\n",
       "    }\n",
       "\n",
       "    .dataframe tbody tr th {\n",
       "        vertical-align: top;\n",
       "    }\n",
       "\n",
       "    .dataframe thead th {\n",
       "        text-align: right;\n",
       "    }\n",
       "</style>\n",
       "<table border=\"1\" class=\"dataframe\">\n",
       "  <thead>\n",
       "    <tr style=\"text-align: right;\">\n",
       "      <th></th>\n",
       "      <th>DLC</th>\n",
       "      <th>DATA0</th>\n",
       "      <th>DATA1</th>\n",
       "      <th>DATA2</th>\n",
       "      <th>DATA3</th>\n",
       "      <th>DATA4</th>\n",
       "      <th>DATA5</th>\n",
       "      <th>DATA6</th>\n",
       "      <th>DATA7</th>\n",
       "      <th>ATTACK_TYPE</th>\n",
       "    </tr>\n",
       "  </thead>\n",
       "  <tbody>\n",
       "    <tr>\n",
       "      <th>0</th>\n",
       "      <td>8</td>\n",
       "      <td>fe</td>\n",
       "      <td>5b</td>\n",
       "      <td>0</td>\n",
       "      <td>0</td>\n",
       "      <td>0</td>\n",
       "      <td>3c</td>\n",
       "      <td>0</td>\n",
       "      <td>0</td>\n",
       "      <td>Normal</td>\n",
       "    </tr>\n",
       "    <tr>\n",
       "      <th>1</th>\n",
       "      <td>8</td>\n",
       "      <td>19</td>\n",
       "      <td>21</td>\n",
       "      <td>22</td>\n",
       "      <td>30</td>\n",
       "      <td>8</td>\n",
       "      <td>8e</td>\n",
       "      <td>6d</td>\n",
       "      <td>3a</td>\n",
       "      <td>Normal</td>\n",
       "    </tr>\n",
       "    <tr>\n",
       "      <th>2</th>\n",
       "      <td>8</td>\n",
       "      <td>64</td>\n",
       "      <td>0</td>\n",
       "      <td>9a</td>\n",
       "      <td>1d</td>\n",
       "      <td>97</td>\n",
       "      <td>2</td>\n",
       "      <td>bd</td>\n",
       "      <td>0</td>\n",
       "      <td>Normal</td>\n",
       "    </tr>\n",
       "    <tr>\n",
       "      <th>3</th>\n",
       "      <td>8</td>\n",
       "      <td>40</td>\n",
       "      <td>bb</td>\n",
       "      <td>7f</td>\n",
       "      <td>14</td>\n",
       "      <td>11</td>\n",
       "      <td>20</td>\n",
       "      <td>0</td>\n",
       "      <td>14</td>\n",
       "      <td>Normal</td>\n",
       "    </tr>\n",
       "    <tr>\n",
       "      <th>4</th>\n",
       "      <td>8</td>\n",
       "      <td>d8</td>\n",
       "      <td>0</td>\n",
       "      <td>0</td>\n",
       "      <td>8a</td>\n",
       "      <td>0</td>\n",
       "      <td>0</td>\n",
       "      <td>0</td>\n",
       "      <td>0</td>\n",
       "      <td>Normal</td>\n",
       "    </tr>\n",
       "    <tr>\n",
       "      <th>...</th>\n",
       "      <td>...</td>\n",
       "      <td>...</td>\n",
       "      <td>...</td>\n",
       "      <td>...</td>\n",
       "      <td>...</td>\n",
       "      <td>...</td>\n",
       "      <td>...</td>\n",
       "      <td>...</td>\n",
       "      <td>...</td>\n",
       "      <td>...</td>\n",
       "    </tr>\n",
       "    <tr>\n",
       "      <th>41457</th>\n",
       "      <td>8</td>\n",
       "      <td>0</td>\n",
       "      <td>20</td>\n",
       "      <td>0</td>\n",
       "      <td>0</td>\n",
       "      <td>0</td>\n",
       "      <td>0</td>\n",
       "      <td>0</td>\n",
       "      <td>0</td>\n",
       "      <td>Spoofing the drive gear</td>\n",
       "    </tr>\n",
       "    <tr>\n",
       "      <th>42154</th>\n",
       "      <td>8</td>\n",
       "      <td>20</td>\n",
       "      <td>0</td>\n",
       "      <td>95</td>\n",
       "      <td>1c</td>\n",
       "      <td>97</td>\n",
       "      <td>2</td>\n",
       "      <td>bd</td>\n",
       "      <td>0</td>\n",
       "      <td>Spoofing the drive gear</td>\n",
       "    </tr>\n",
       "    <tr>\n",
       "      <th>40305</th>\n",
       "      <td>8</td>\n",
       "      <td>0</td>\n",
       "      <td>0</td>\n",
       "      <td>0</td>\n",
       "      <td>0</td>\n",
       "      <td>0</td>\n",
       "      <td>1</td>\n",
       "      <td>2</td>\n",
       "      <td>7c</td>\n",
       "      <td>Spoofing the drive gear</td>\n",
       "    </tr>\n",
       "    <tr>\n",
       "      <th>41221</th>\n",
       "      <td>8</td>\n",
       "      <td>d8</td>\n",
       "      <td>5d</td>\n",
       "      <td>0</td>\n",
       "      <td>8a</td>\n",
       "      <td>0</td>\n",
       "      <td>0</td>\n",
       "      <td>0</td>\n",
       "      <td>0</td>\n",
       "      <td>Spoofing the drive gear</td>\n",
       "    </tr>\n",
       "    <tr>\n",
       "      <th>42211</th>\n",
       "      <td>8</td>\n",
       "      <td>86</td>\n",
       "      <td>bb</td>\n",
       "      <td>7f</td>\n",
       "      <td>14</td>\n",
       "      <td>11</td>\n",
       "      <td>20</td>\n",
       "      <td>0</td>\n",
       "      <td>14</td>\n",
       "      <td>Spoofing the drive gear</td>\n",
       "    </tr>\n",
       "  </tbody>\n",
       "</table>\n",
       "<p>110661 rows × 10 columns</p>\n",
       "</div>"
      ],
      "text/plain": [
       "       DLC DATA0 DATA1 DATA2 DATA3 DATA4 DATA5 DATA6 DATA7  \\\n",
       "0        8    fe    5b     0     0     0    3c     0     0   \n",
       "1        8    19    21    22    30     8    8e    6d    3a   \n",
       "2        8    64     0    9a    1d    97     2    bd     0   \n",
       "3        8    40    bb    7f    14    11    20     0    14   \n",
       "4        8    d8     0     0    8a     0     0     0     0   \n",
       "...    ...   ...   ...   ...   ...   ...   ...   ...   ...   \n",
       "41457    8     0    20     0     0     0     0     0     0   \n",
       "42154    8    20     0    95    1c    97     2    bd     0   \n",
       "40305    8     0     0     0     0     0     1     2    7c   \n",
       "41221    8    d8    5d     0    8a     0     0     0     0   \n",
       "42211    8    86    bb    7f    14    11    20     0    14   \n",
       "\n",
       "                   ATTACK_TYPE  \n",
       "0                       Normal  \n",
       "1                       Normal  \n",
       "2                       Normal  \n",
       "3                       Normal  \n",
       "4                       Normal  \n",
       "...                        ...  \n",
       "41457  Spoofing the drive gear  \n",
       "42154  Spoofing the drive gear  \n",
       "40305  Spoofing the drive gear  \n",
       "41221  Spoofing the drive gear  \n",
       "42211  Spoofing the drive gear  \n",
       "\n",
       "[110661 rows x 10 columns]"
      ]
     },
     "execution_count": 10,
     "metadata": {},
     "output_type": "execute_result"
    }
   ],
   "source": [
    "df_under"
   ]
  },
  {
   "cell_type": "code",
   "execution_count": 11,
   "id": "13de46e7",
   "metadata": {},
   "outputs": [
    {
     "name": "stdout",
     "output_type": "stream",
     "text": [
      "Balanced attack_type count:\n",
      " Normal                     36887\n",
      "DoS                        36887\n",
      "Spoofing the drive gear    36887\n",
      "Name: ATTACK_TYPE, dtype: int64\n"
     ]
    },
    {
     "data": {
      "text/plain": [
       "Text(0, 0.5, '')"
      ]
     },
     "execution_count": 11,
     "metadata": {},
     "output_type": "execute_result"
    },
    {
     "data": {
      "image/png": "[encoded data removed]",
      "text/plain": [
       "<Figure size 576x432 with 1 Axes>"
      ]
     },
     "metadata": {},
     "output_type": "display_data"
    }
   ],
   "source": [
    "print(\"Balanced attack_type count:\\n\",df_under['ATTACK_TYPE'].value_counts())\n",
    "# plot the count after under-sampeling\n",
    "plt.figure(figsize=(8,6))\n",
    "df_under['ATTACK_TYPE'].value_counts().plot.pie(textprops={'fontweight':'bold','fontsize': 12},\n",
    "                                                  shadow=True)\n",
    "plt.ylabel('')"
   ]
  },
  {
   "cell_type": "code",
   "execution_count": 12,
   "id": "7dd33684",
   "metadata": {},
   "outputs": [
    {
     "data": {
      "text/plain": [
       "array(['0', '22', '9a', '7f', '10', '14', '60', '68', '27', '24', '34',\n",
       "       '21', '44', '54', '64', '74', '84', '94', 'a4', 'b4', 'c4', 'd4',\n",
       "       'e4', 'f4', '4', '6c', '5c', '78', '70', '1', '7c', 'a5', '58',\n",
       "       '50', '80', '23', '88', '9b', 'a0', '9c', 'a8', 'ac', 'c0', '25',\n",
       "       'cc', 'd0', 'dc', 'd8', 'e8', 'e0', 'ec', 'fc', 'f0', 'f8', '0c',\n",
       "       '8', '1c', '18', '20', '28', '26', '30', '2c', '38', '48', '3c',\n",
       "       '40', '4c', 'c8', 'bc', '8c', '98', '90', 'b0', '95', '1f', '1e',\n",
       "       '1d', '1b'], dtype=object)"
      ]
     },
     "execution_count": 12,
     "metadata": {},
     "output_type": "execute_result"
    }
   ],
   "source": [
    "df['DATA2'].unique()"
   ]
  },
  {
   "cell_type": "code",
   "execution_count": 13,
   "id": "b5bdc580",
   "metadata": {},
   "outputs": [
    {
     "data": {
      "text/plain": [
       "array(['0', '22', '9a', '7f', '10', '14', '60', '68', '27', '24', '34',\n",
       "       '21', '44', '54', '64', '74', '84', '94', 'a4', 'b4', 'c4', 'd4',\n",
       "       'e4', 'f4', '4', '6c', '5c', '78', '70', '1', '7c', 'a5', '58',\n",
       "       '50', '80', '23', '88', '9b', 'a0', '9c', 'a8', 'ac', 'c0', '25',\n",
       "       'cc', 'd0', 'dc', 'd8', 'e8', 'e0', 'ec', 'fc', 'f0', 'f8', '0c',\n",
       "       '8', '1c', '18', '20', '28', '26', '30', '2c', '38', '48', '3c',\n",
       "       '40', '4c', 'c8', 'bc', '8c', '98', '90', 'b0', '95', '1f', '1e',\n",
       "       '1d', '1b'], dtype=object)"
      ]
     },
     "execution_count": 13,
     "metadata": {},
     "output_type": "execute_result"
    }
   ],
   "source": [
    "from sklearn import preprocessing\n",
    "  \n",
    "# label_encoder object knows how to understand word labels.\n",
    "label_encoder = preprocessing.LabelEncoder()\n",
    "  \n",
    "# Encode labels in column 'species'.\n",
    "df_under['DATA0']= label_encoder.fit_transform(df_under['DATA0'])\n",
    "df_under['DATA1']= label_encoder.fit_transform(df_under['DATA1'])\n",
    "df_under['DATA2']= label_encoder.fit_transform(df_under['DATA2'])\n",
    "df_under['DATA3']= label_encoder.fit_transform(df_under['DATA3'])\n",
    "df_under['DATA4']= label_encoder.fit_transform(df_under['DATA4'])\n",
    "df_under['DATA5']= label_encoder.fit_transform(df_under['DATA5'])\n",
    "df_under['DATA6']= label_encoder.fit_transform(df_under['DATA6'])\n",
    "df_under['DATA7']= label_encoder.fit_transform(df_under['DATA7'])\n",
    "df_under['ATTACK_TYPE']= label_encoder.fit_transform(df_under['ATTACK_TYPE']) \n",
    "\n",
    "df_under = df_under.astype(float)\n",
    "df['DATA2'].unique()"
   ]
  },
  {
   "cell_type": "code",
   "execution_count": 14,
   "id": "8a54f6b3",
   "metadata": {},
   "outputs": [
    {
     "name": "stdout",
     "output_type": "stream",
     "text": [
      "<class 'pandas.core.frame.DataFrame'>\n",
      "Int64Index: 110661 entries, 0 to 42211\n",
      "Data columns (total 10 columns):\n",
      " #   Column       Non-Null Count   Dtype  \n",
      "---  ------       --------------   -----  \n",
      " 0   DLC          110661 non-null  float64\n",
      " 1   DATA0        110661 non-null  float64\n",
      " 2   DATA1        110661 non-null  float64\n",
      " 3   DATA2        110661 non-null  float64\n",
      " 4   DATA3        110661 non-null  float64\n",
      " 5   DATA4        110661 non-null  float64\n",
      " 6   DATA5        110661 non-null  float64\n",
      " 7   DATA6        110661 non-null  float64\n",
      " 8   DATA7        110661 non-null  float64\n",
      " 9   ATTACK_TYPE  110661 non-null  float64\n",
      "dtypes: float64(10)\n",
      "memory usage: 9.3 MB\n"
     ]
    }
   ],
   "source": [
    "df_under.info()"
   ]
  },
  {
   "cell_type": "code",
   "execution_count": 15,
   "id": "0aa8eac4",
   "metadata": {},
   "outputs": [],
   "source": [
    "X = df_under.drop(['ATTACK_TYPE'], axis=1)\n",
    "y = df_under.ATTACK_TYPE"
   ]
  },
  {
   "cell_type": "code",
   "execution_count": 16,
   "id": "1b763355",
   "metadata": {},
   "outputs": [],
   "source": [
    "#split train-test\n",
    "X_train, X_test, y_train, y_test = train_test_split(X,y, test_size=0.33, random_state=42)"
   ]
  },
  {
   "cell_type": "code",
   "execution_count": 17,
   "id": "78db94fa",
   "metadata": {},
   "outputs": [
    {
     "name": "stdout",
     "output_type": "stream",
     "text": [
      "Accuracy: 0.5468933979572277\n",
      "Confusion matrix: [[ 2998  6560  2767]\n",
      " [ 2786  6661  2717]\n",
      " [  586  1131 10313]]\n"
     ]
    }
   ],
   "source": [
    "#NAIVE BAYES\n",
    "\n",
    "from sklearn.naive_bayes import GaussianNB\n",
    "from sklearn.metrics import accuracy_score, confusion_matrix\n",
    "# train the Naive Bayes classifier\n",
    "nb_classifier = GaussianNB()\n",
    "nb_classifier.fit(X_train, y_train)\n",
    "\n",
    "# make predictions on the testing set\n",
    "y_pred = nb_classifier.predict(X_test)\n",
    "\n",
    "# evaluate the performance of the classifier\n",
    "accuracy = accuracy_score(y_test, y_pred)\n",
    "confusion_mat = confusion_matrix(y_test, y_pred)\n",
    "\n",
    "print(\"Accuracy:\", accuracy)\n",
    "print(\"Confusion matrix:\", confusion_mat)"
   ]
  },
  {
   "cell_type": "code",
   "execution_count": 19,
   "id": "657a7a1b",
   "metadata": {},
   "outputs": [
    {
     "data": {
      "text/plain": [
       "RandomForestClassifier()"
      ]
     },
     "execution_count": 19,
     "metadata": {},
     "output_type": "execute_result"
    }
   ],
   "source": [
    "#random forest\n",
    "\n",
    "from sklearn.ensemble import RandomForestClassifier\n",
    "# train the Random Forest classifier\n",
    "rf_classifier = RandomForestClassifier()\n",
    "rf_classifier.fit(X_train, y_train)"
   ]
  },
  {
   "cell_type": "code",
   "execution_count": 19,
   "id": "a9afd951",
   "metadata": {},
   "outputs": [
    {
     "name": "stdout",
     "output_type": "stream",
     "text": [
      "Accuracy: 0.8934527232399573\n",
      "Confusion matrix: [[11614   167   544]\n",
      " [ 2416  9332   416]\n",
      " [  291    57 11682]]\n"
     ]
    }
   ],
   "source": [
    "#KNN\n",
    "from sklearn.neighbors import KNeighborsClassifier\n",
    "# train the KNN classifier\n",
    "knn_classifier = KNeighborsClassifier(n_neighbors=3)\n",
    "knn_classifier.fit(X_train, y_train)\n",
    "\n",
    "# make predictions on the testing set\n",
    "y_pred = knn_classifier.predict(X_test)\n",
    "\n",
    "# evaluate the performance of the classifier\n",
    "accuracy = accuracy_score(y_test, y_pred)\n",
    "confusion_mat = confusion_matrix(y_test, y_pred)\n",
    "\n",
    "print(\"Accuracy:\", accuracy)\n",
    "print(\"Confusion matrix:\", confusion_mat)"
   ]
  },
  {
   "cell_type": "code",
   "execution_count": null,
   "id": "e1b3f16c",
   "metadata": {},
   "outputs": [],
   "source": [
    "#SVM\n",
    "from sklearn.svm import SVC\n",
    "# train the SVM classifier\n",
    "svm_classifier = SVC(kernel='linear', C=1, random_state=0)\n",
    "svm_classifier.fit(X_train, y_train)\n",
    "\n",
    "# make predictions on the testing set\n",
    "y_pred = svm_classifier.predict(X_test)\n",
    "\n",
    "# evaluate the performance of the classifier\n",
    "accuracy = accuracy_score(y_test, y_pred)\n",
    "confusion_mat = confusion_matrix(y_test, y_pred)\n",
    "\n",
    "print(\"Accuracy:\", accuracy)\n",
    "print(\"Confusion matrix:\", confusion_mat)"
   ]
  },
  {
   "cell_type": "code",
   "execution_count": 21,
   "id": "5b732e40",
   "metadata": {},
   "outputs": [
    {
     "name": "stderr",
     "output_type": "stream",
     "text": [
      "C:\\Users\\DELL\\anaconda3\\lib\\site-packages\\sklearn\\base.py:450: UserWarning: X does not have valid feature names, but MLPClassifier was fitted with feature names\n",
      "  warnings.warn(\n",
      "C:\\Users\\DELL\\anaconda3\\lib\\site-packages\\sklearn\\base.py:450: UserWarning: X does not have valid feature names, but MLPClassifier was fitted with feature names\n",
      "  warnings.warn(\n",
      "C:\\Users\\DELL\\anaconda3\\lib\\site-packages\\sklearn\\base.py:450: UserWarning: X does not have valid feature names, but MLPClassifier was fitted with feature names\n",
      "  warnings.warn(\n",
      "C:\\Users\\DELL\\anaconda3\\lib\\site-packages\\sklearn\\base.py:450: UserWarning: X does not have valid feature names, but MLPClassifier was fitted with feature names\n",
      "  warnings.warn(\n",
      "C:\\Users\\DELL\\anaconda3\\lib\\site-packages\\sklearn\\base.py:450: UserWarning: X does not have valid feature names, but MLPClassifier was fitted with feature names\n",
      "  warnings.warn(\n",
      "C:\\Users\\DELL\\anaconda3\\lib\\site-packages\\sklearn\\base.py:450: UserWarning: X does not have valid feature names, but MLPClassifier was fitted with feature names\n",
      "  warnings.warn(\n",
      "C:\\Users\\DELL\\anaconda3\\lib\\site-packages\\sklearn\\base.py:450: UserWarning: X does not have valid feature names, but MLPClassifier was fitted with feature names\n",
      "  warnings.warn(\n",
      "C:\\Users\\DELL\\anaconda3\\lib\\site-packages\\sklearn\\base.py:450: UserWarning: X does not have valid feature names, but MLPClassifier was fitted with feature names\n",
      "  warnings.warn(\n",
      "C:\\Users\\DELL\\anaconda3\\lib\\site-packages\\sklearn\\base.py:450: UserWarning: X does not have valid feature names, but MLPClassifier was fitted with feature names\n",
      "  warnings.warn(\n",
      "C:\\Users\\DELL\\anaconda3\\lib\\site-packages\\sklearn\\base.py:450: UserWarning: X does not have valid feature names, but MLPClassifier was fitted with feature names\n",
      "  warnings.warn(\n",
      "C:\\Users\\DELL\\anaconda3\\lib\\site-packages\\sklearn\\neural_network\\_multilayer_perceptron.py:699: UserWarning: Training interrupted by user.\n",
      "  warnings.warn(\"Training interrupted by user.\")\n"
     ]
    },
    {
     "name": "stdout",
     "output_type": "stream",
     "text": [
      "score on train data:  0.6377626716301151\n",
      "score on test data:  0.6320271639420576\n"
     ]
    }
   ],
   "source": [
    "from sklearn.neural_network import MLPClassifier\n",
    "mlp = MLPClassifier(solver='sgd', alpha=1e-5,\n",
    "                    hidden_layer_sizes=(50,50,50), max_iter=300,\n",
    "                    early_stopping=True)\n",
    "mlp.fit(X_train, y_train.values.ravel())\n",
    "\n",
    "y_pred = mlp.predict(X_test)\n",
    "y_pred\n",
    "\n",
    "from sklearn.metrics import accuracy_score\n",
    "\n",
    "train_pred = mlp.predict(X_train)\n",
    "test_pred = mlp.predict(X_test)\n",
    "train_score = accuracy_score(train_pred, y_train)\n",
    "print(\"score on train data: \", train_score)\n",
    "test_score = accuracy_score(test_pred, y_test)\n",
    "print(\"score on test data: \", test_score)"
   ]
  },
  {
   "cell_type": "code",
   "execution_count": 22,
   "id": "f13926d0",
   "metadata": {},
   "outputs": [
    {
     "name": "stdout",
     "output_type": "stream",
     "text": [
      "Accuracy: 0.5679783126591638\n",
      "Confusion matrix: [[3116 8687  522]\n",
      " [2853 8968  343]\n",
      " [ 781 2591 8658]]\n"
     ]
    }
   ],
   "source": [
    "from sklearn.tree import DecisionTreeClassifier\n",
    "# create the decision tree classifier\n",
    "classifier = DecisionTreeClassifier(criterion='entropy', max_depth=3, random_state=0)\n",
    "\n",
    "# train the decision tree classifier\n",
    "classifier.fit(X_train, y_train)\n",
    "\n",
    "# make predictions on the testing set\n",
    "y_pred = classifier.predict(X_test)\n",
    "\n",
    "# evaluate the performance of the classifier\n",
    "accuracy = accuracy_score(y_test, y_pred)\n",
    "confusion_mat = confusion_matrix(y_test, y_pred)\n",
    "\n",
    "print(\"Accuracy:\", accuracy)\n",
    "print(\"Confusion matrix:\", confusion_mat)"
   ]
  },
  {
   "cell_type": "code",
   "execution_count": null,
   "id": "896e9e17",
   "metadata": {},
   "outputs": [],
   "source": []
  }
 ],
 "metadata": {
  "kernelspec": {
   "display_name": "Python 3 (ipykernel)",
   "language": "python",
   "name": "python3"
  },
  "language_info": {
   "codemirror_mode": {
    "name": "ipython",
    "version": 3
   },
   "file_extension": ".py",
   "mimetype": "text/x-python",
   "name": "python",
   "nbconvert_exporter": "python",
   "pygments_lexer": "ipython3",
   "version": "3.9.12"
  }
 },
 "nbformat": 4,
 "nbformat_minor": 5
}
